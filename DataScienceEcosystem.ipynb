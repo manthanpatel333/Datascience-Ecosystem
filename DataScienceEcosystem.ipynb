{
 "cells": [
  {
   "cell_type": "markdown",
   "id": "f47425d1",
   "metadata": {},
   "source": [
    "# Data Science Tools and Ecosystem"
   ]
  },
  {
   "cell_type": "markdown",
   "id": "1ce39bcd",
   "metadata": {},
   "source": [
    "## In this notebook, Data Science Tools and Ecosystem are summarized."
   ]
  },
  {
   "cell_type": "markdown",
   "id": "6e6fde3b",
   "metadata": {},
   "source": [
    "Some of the popular languages that Data Scientists use are:  \n",
    "1. python\n",
    "2. java\n",
    "3. R\n",
    "  "
   ]
  },
  {
   "cell_type": "markdown",
   "id": "629c8ad1",
   "metadata": {},
   "source": [
    "Some of the commonly used libraries used by Data Scientists include:\n",
    "1. hadoop\n",
    "2. pandas\n",
    "3. matplot"
   ]
  },
  {
   "cell_type": "markdown",
   "id": "330a6e44",
   "metadata": {},
   "source": [
    "| Data Science Tools. |\n",
    "| ---- |\n",
    "| vs |\n",
    "| pycharm |\n",
    "| jupiternote Book |"
   ]
  },
  {
   "cell_type": "markdown",
   "id": "bbb4b379",
   "metadata": {},
   "source": [
    "### Below are a few examples of evaluating arithmetic expressions in Python"
   ]
  },
  {
   "cell_type": "markdown",
   "id": "1cecd922",
   "metadata": {},
   "source": [
    "This a simple arithmetic expression to mutiply then add integers"
   ]
  },
  {
   "cell_type": "code",
   "execution_count": 7,
   "id": "386f3448",
   "metadata": {},
   "outputs": [
    {
     "data": {
      "text/plain": [
       "17"
      ]
     },
     "execution_count": 7,
     "metadata": {},
     "output_type": "execute_result"
    }
   ],
   "source": [
    "(3*4)+5\n"
   ]
  },
  {
   "cell_type": "markdown",
   "id": "ecc4b026",
   "metadata": {},
   "source": [
    " This will convert 200 minutes to hours by diving by 60"
   ]
  },
  {
   "cell_type": "code",
   "execution_count": 5,
   "id": "e9c749b1",
   "metadata": {},
   "outputs": [
    {
     "name": "stdout",
     "output_type": "stream",
     "text": [
      "03:20\n"
     ]
    }
   ],
   "source": [
    "minutes = 200\n",
    "print(\"%02d:%02d\" % (divmod(minutes, 60)))"
   ]
  },
  {
   "cell_type": "markdown",
   "id": "012f3b79",
   "metadata": {},
   "source": [
    "### Exercise 3\n",
    "**Objectives**"
   ]
  },
  {
   "cell_type": "markdown",
   "id": "b8d429c1",
   "metadata": {},
   "source": [
    "- data science is good with r\n",
    "- but python have the some advantages \n",
    "- learn and impliment is best idea for learniong "
   ]
  },
  {
   "cell_type": "markdown",
   "id": "6f80bec8",
   "metadata": {},
   "source": [
    "## Author\n",
    "Manthan"
   ]
  },
  {
   "cell_type": "code",
   "execution_count": null,
   "id": "86fc88be",
   "metadata": {},
   "outputs": [],
   "source": []
  }
 ],
 "metadata": {
  "kernelspec": {
   "display_name": "Python 3 (ipykernel)",
   "language": "python",
   "name": "python3"
  },
  "language_info": {
   "codemirror_mode": {
    "name": "ipython",
    "version": 3
   },
   "file_extension": ".py",
   "mimetype": "text/x-python",
   "name": "python",
   "nbconvert_exporter": "python",
   "pygments_lexer": "ipython3",
   "version": "3.10.9"
  }
 },
 "nbformat": 4,
 "nbformat_minor": 5
}
